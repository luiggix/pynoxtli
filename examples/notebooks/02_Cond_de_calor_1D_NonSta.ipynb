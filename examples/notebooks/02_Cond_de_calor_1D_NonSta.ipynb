{
 "cells": [
  {
   "cell_type": "markdown",
   "metadata": {
    "slideshow": {
     "slide_type": "slide"
    }
   },
   "source": [
    "# Conducción de calor en 1D: <font color=green>Caso No estacionario</font>\n",
    "\n",
    "**Trabajo realizado con el apoyo del Programa UNAM-DGAPA-PAPIME PE101019**\n",
    "\n",
    "*   Autores: \n",
    "    - Luis M. de la Cruz Salas\n",
    "*   Rev: lun 15 feb 2021 15:37:48 CST"
   ]
  },
  {
   "cell_type": "markdown",
   "metadata": {
    "slideshow": {
     "slide_type": "slide"
    }
   },
   "source": [
    "<img src=\"./Figuras/conceptualCOMPLETO.png\" style=\"width: 300px;\"/>\n",
    "\n",
    "Estudiar la conducción de calor dependiente del tiempo en una barra metálica.\n",
    "\n",
    " <table style=\"width:100%\">\n",
    "  <tr>\n",
    "    <th style=\"text-align:center\">Barra metálica</th>\n",
    "    <th style=\"text-align:center\">Conducción de calor</th>\n",
    "    <th style=\"text-align:center\">Nodos de simulación</th>\n",
    "  </tr>\n",
    "  <tr>\n",
    "    <td style=\"text-align:center\"><video src=\"./Videos/01_Conduccion1D.mp4\" width=\"160\" controls></video></td>\n",
    "    <td style=\"text-align:center\"><video src=\"./Videos/02_Conduccion1D.mp4\" width=\"160\" controls></video></td>\n",
    "    <td style=\"text-align:center\"><video src=\"./videos/03_Conduccion1D.mp4\" width=\"160\" controls></video></td>\n",
    "  </tr>\n",
    "  <tr>\n",
    "    <td style=\"text-align:center\">  </td>\n",
    "    <td style=\"text-align:center\">Cada color indica una temperatura diferente</td>\n",
    "    <td style=\"text-align:center\">Se aproximará la solución en cada punto</td>\n",
    "  </tr>\n",
    "</table> \n",
    "<br>\n",
    "\n",
    "Propiedades de la barra\n",
    "1. Longitud: 0.5 m\n",
    "2. Conductividad térmica ($\\kappa$): 1000 W / m K\n",
    "3. Temperatura constante en el extremo izquierdo: 100 [$^o C$]\n",
    "4. Temperatura constante en el extremo derecho: 500 [$^o C$]"
   ]
  },
  {
   "cell_type": "markdown",
   "metadata": {
    "slideshow": {
     "slide_type": "slide"
    }
   },
   "source": [
    "<img src=\"./Figuras/matematicoCOMPLETO.png\" style=\"width: 300px;\"/>\n",
    "\n",
    "El modelo matemático de este problema consiste de la siguiente ecuación diferencial parcial:\n",
    "\n",
    "$\n",
    "\\frac{\\partial T}{\\partial t} = \\frac{\\partial}{\\partial x} \\left(\\kappa \\frac{\\partial T}{\\partial x}\\right)\n",
    "$\n",
    "\n",
    "La solución de esta ecuación implica encontrar la temperatura $T$ en cualquier punto $x$ de la barra y en cualquier tiempo $t$. Es decir, la temperatura es una función de dos variables $T(x,t)$.\n",
    "\n",
    "Este modelo se completa con las condiciones mostradas en la siguiente figura:\n",
    "\n",
    "<img src=\"./Figuras/01_Conduccion1D_BC_IC.png\" style=\"width: 500px;\"/>\n",
    "\n",
    "La barra (representada en gris) tiene una temperatura fija en sus extremos: $T = 100 ^o$C del lado izquierdo y $T = 500 ^o$C del lado derecho. Estas condiciones se conocen como **condiciones de frontera**, pues están en la frontera de la barra.\n",
    "\n",
    "Además, la temperatura en todos los puntos internos de la barra (línea punteada) inicialmente es de $T = 0 ^o$C. Esto se conoce como la **condición inicial** y será útil para calcular la temperatura en tiempos posteriores.\n",
    "\n",
    "Adicionalmente, en la figura se puede observar una serie de círculos púrpura, que son los lugares donde se calculará numéricamente la temperatura.\n",
    "\n",
    "Matemáticamente se puede escribir:\n",
    "\n",
    "- **Condición inicial** : $T(x, t=0) = 0, \\quad \\forall x \\in (0,1)$\n",
    "- **Condiciones de frontera** : $T(x=0, t) = TA \\quad$ y $\\quad T(x=L, t) = TB, \\quad \\forall t \\in [0,Tmax]$.\n",
    "\n",
    "donde $TA = 100 ^o$C y $TB = 500 ^o$C"
   ]
  },
  {
   "cell_type": "markdown",
   "metadata": {
    "slideshow": {
     "slide_type": "slide"
    }
   },
   "source": [
    "<img src=\"./Figuras/numericoCOMPLETO.png\" style=\"width: 300px;\"/>\n",
    "\n",
    "En este ejemplo haremos la solución de manera implícita y con el método de volumen finito."
   ]
  },
  {
   "cell_type": "markdown",
   "metadata": {},
   "source": [
    "<img src=\"./Figuras/computacionalCOMPLETO.png\" style=\"width: 450px;\"/>\n",
    "\n",
    "Con toda la información anterior, vamos a implementar un algoritmo para obtener la temperatura de la barra en sus puntos interiores y en los instantes de tiempo $n = 1, \\dots, $Tmax.\n"
   ]
  },
  {
   "cell_type": "code",
   "execution_count": 64,
   "metadata": {},
   "outputs": [],
   "source": [
    "#-----------------------------------------------------------\n",
    "# PATH ABSOLUTO DE LOS MÓDULOS DE PYNOXTLI\n",
    "#\n",
    "import os, sys\n",
    "sys.path.insert(0, os.path.abspath('../../base'))\n",
    "#-----------------------------------------------------------"
   ]
  },
  {
   "cell_type": "code",
   "execution_count": 65,
   "metadata": {},
   "outputs": [],
   "source": [
    "import numpy as np\n",
    "#\n",
    "# Importamos los módulos necesarios de PyNoxtli.\n",
    "#\n",
    "from geo.line import Line\n",
    "from utils.displayInfo import printInfo\n",
    "from fvm.tDiffusion import tDiffusion1D\n",
    "from fvm.pde import PDE\n",
    "import vis.flowix as flx"
   ]
  },
  {
   "cell_type": "code",
   "execution_count": 66,
   "metadata": {},
   "outputs": [],
   "source": [
    "#\n",
    "# Primero definimos las propiedades físicas y geométricas de la barra:\n",
    "#\n",
    "longitud = 0.5 # metros\n",
    "TA = 100 # °C \n",
    "TB = 500 # °C \n",
    "k  = 1000 # W/m.K\n",
    "N  = 6 # Número de nodos\n",
    "dt = 0.00001 # Paso de tiempo\n",
    "Tmax = 20 # Número de pasos en el tiempo"
   ]
  },
  {
   "cell_type": "code",
   "execution_count": 67,
   "metadata": {},
   "outputs": [],
   "source": [
    "#\n",
    "# Definición del dominio y condiciones de frontera\n",
    "#\n",
    "barra = Line(longitud)\n",
    "barra.boundaryConditions(dirichlet = {'RIGHT':TB, 'LEFT':TA})\n",
    "#\n",
    "# Creamos la malla y obtenemos datos importantes\n",
    "#\n",
    "malla     = barra.constructMesh(N) # Se construye la malla del dominio.\n",
    "ivx, _, _ = malla.bounds(bi = 1, ei = N-1) # Se obtienen los grados de libertad\n",
    "nx        = malla.nx    # Número de nodos\n",
    "nvx       = malla.vx    # Número de volúmenes\n",
    "delta     = malla.dx    # Tamaño de los volúmenes"
   ]
  },
  {
   "cell_type": "code",
   "execution_count": 68,
   "metadata": {},
   "outputs": [],
   "source": [
    "#\n",
    "# Se generan las coordenadas de la malla para FVM\n",
    "#\n",
    "x, _, _ = malla.coordinatesMeshFVM() \n",
    "#\n",
    "# Se calcula la solución analítica sobre los puntos de la malla (x)\n",
    "#\n",
    "Ta = 800 * x + 100"
   ]
  },
  {
   "cell_type": "code",
   "execution_count": 69,
   "metadata": {},
   "outputs": [
    {
     "name": "stdout",
     "output_type": "stream",
     "text": [
      ".--------------------------------------------------------------------------------.\n",
      "|              PyNoxtli : Ver. 0.2, LMCS-2020, [GNU GPL License V3]              |\n",
      ".--------------------------------------------------------------------------------.\n",
      "|       Longitud = 5.000000000000000e-01                                         |\n",
      "|  Temperatura_A =    100                                                        |\n",
      "|  Temperatura_B =    500                                                        |\n",
      "|  Conductividad =    1000                                                       |\n",
      "|          Nodos =     6                                                         |\n",
      "|      Volúmenes =     5                                                         |\n",
      "|          Delta = 1.000000000000000e-01                                         |\n",
      "|             dt = 1.000000000000000e-05                                         |\n",
      ".--------------------------------------------------------------------------------.\n"
     ]
    }
   ],
   "source": [
    "#\n",
    "# Imprimimos los datos del problema (nicely)\n",
    "#\n",
    "printInfo(Longitud = longitud,\n",
    "          Temperatura_A = TA,\n",
    "          Temperatura_B = TB,\n",
    "          Conductividad = k,\n",
    "          Nodos = nx, \n",
    "          Volúmenes = nvx,\n",
    "          Delta = delta,\n",
    "          dt = dt)"
   ]
  },
  {
   "cell_type": "code",
   "execution_count": 76,
   "metadata": {},
   "outputs": [],
   "source": [
    "#\n",
    "# Se construye el arreglo donde se guardará la solución\n",
    "#\n",
    "T = np.zeros(nvx+2) # El arreglo contiene ceros\n",
    "T *= TA          # Inicializamos T = TA\n",
    "T[0]  = TA       # Condición de frontera izquierda\n",
    "T[-1] = TB       # Condición de frontera derecha\n",
    "#\n",
    "# Definimos la fuente, en este caso es cero.\n",
    "#\n",
    "Su = np.zeros(ivx)\n",
    "#\n",
    "# Definimos el esquema de disccretización\n",
    "#\n",
    "dif_scheme = tDiffusion1D(malla, Su, Gamma = k, dt = dt)\n",
    "#\n",
    "# Definimos la ecuación a resolver\n",
    "#\n",
    "laplace = PDE(barra, T)\n",
    "#\n",
    "# Preparamos el sistema lineal y creamos la matriz\n",
    "#\n",
    "laplace.setNumericalScheme(dif_scheme)"
   ]
  },
  {
   "cell_type": "code",
   "execution_count": 77,
   "metadata": {},
   "outputs": [
    {
     "name": "stdout",
     "output_type": "stream",
     "text": [
      "Iteraciones : 0 1 2 3 4 5 6 7 8 9 10 11 12 13 14 15 16 17 18 19 "
     ]
    },
    {
     "data": {
      "image/png": "[encoded data removed]",
      "text/plain": [
       "<Figure size 432x288 with 2 Axes>"
      ]
     },
     "metadata": {
      "needs_background": "light"
     },
     "output_type": "display_data"
    }
   ],
   "source": [
    "#\n",
    "# Preparamos la visualización con VisCoFlow\n",
    "#\n",
    "axis_par = [{'title':'Solución Numérica', 'xlabel':'x [cm]', 'ylabel':'T [$^o$C]'}]   \n",
    "v = flx.Plotter(2,1,axis_par)\n",
    "#\n",
    "# Se grafica la condición inicial\n",
    "#\n",
    "v.plot(1,x * 100,T, {'marker':'o', 'ls':'-', 'lw':3, 'color':'k', 'label':'Cond. inicial'})\n",
    "#\n",
    "# Resolvemos para varios pasos de tiempo definidos por Tmax\n",
    "#\n",
    "print('Iteraciones :', end = ' ')\n",
    "for n in range(0,Tmax):\n",
    "    print(n, end=' ')\n",
    "    laplace.solve()\n",
    "    v.plot(1,x * 100,T, {'marker':'o', 'ls':'-', 'lw':0.5, 'zorder':5, 'alpha':0.5})\n",
    "#\n",
    "# Se grafica la solución exacta\n",
    "#\n",
    "v.plot(1,x * 100,Ta, {'color':'r', 'ls':'-', 'lw':3, 'label':'Sol. Exacta'})\n",
    "#\n",
    "# Se grafica la malla del dominio\n",
    "#\n",
    "v.plot_mesh(2, malla, label=True)\n",
    "#\n",
    "# Se muestran las gráficas\n",
    "#\n",
    "v.grid()\n",
    "v.legend()\n",
    "v.show()"
   ]
  },
  {
   "cell_type": "code",
   "execution_count": null,
   "metadata": {},
   "outputs": [],
   "source": []
  }
 ],
 "metadata": {
  "kernelspec": {
   "display_name": "Python 3",
   "language": "python",
   "name": "python3"
  },
  "language_info": {
   "codemirror_mode": {
    "name": "ipython",
    "version": 3
   },
   "file_extension": ".py",
   "mimetype": "text/x-python",
   "name": "python",
   "nbconvert_exporter": "python",
   "pygments_lexer": "ipython3",
   "version": "3.8.5"
  }
 },
 "nbformat": 4,
 "nbformat_minor": 4
}
