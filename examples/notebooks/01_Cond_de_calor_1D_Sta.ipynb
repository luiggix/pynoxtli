{
 "cells": [
  {
   "cell_type": "markdown",
   "metadata": {},
   "source": [
    "# Conducción de calor en 1D: <font color=green>caso estacionario</font>\n",
    "\n",
    "**Trabajo realizado con el apoyo del Programa UNAM-DGAPA-PAPIME PE101019**\n",
    "\n",
    "*   Autores: \n",
    "    - Luis M. de la Cruz Salas\n",
    "*   Rev: lun 15 feb 2021 15:24:53 CST"
   ]
  },
  {
   "cell_type": "markdown",
   "metadata": {},
   "source": [
    "<img src=\"./Figuras/conceptualCOMPLETO.png\" style=\"width: 300px;\"/>\n",
    "\n",
    "Estudiar la conducción de calor en una barra metálica en estado estacionario.\n",
    "\n",
    "Propiedades de la barra\n",
    "1. Longitud: 0.5 m\n",
    "2. Conductividad térmica ($\\kappa$): 1000 W / m K\n",
    "3. Temperatura constante en el extremo izquierdo: 100 [$^o C$]\n",
    "4. Temperatura constante en el extremo derecho: 500 [$^o C$]"
   ]
  },
  {
   "cell_type": "markdown",
   "metadata": {},
   "source": [
    "<img src=\"./Figuras/matematicoCOMPLETO.png\" style=\"width: 300px;\"/>\n",
    "\n",
    "El modelo matemático de este problema consiste de la siguiente ecuación diferencial parcial:\n",
    "\n",
    "$\n",
    "\\displaystyle\n",
    "\\frac{\\partial}{\\partial x} \\left(\\kappa \\frac{\\partial T}{\\partial x}\\right) = 0\n",
    "$\n",
    "\n",
    "Con las siguientes **Condiciones de frontera** : $T(x=0) = TA \\quad$ y $\\quad T(x=L) = TB$, donde $TA = 100 ^o$C y $TB = 500 ^o$C\n",
    "\n",
    "La solución de esta ecuación implica encontrar la temperatura $T$ en cualquier punto $x$ de la barra, es decir, la temperatura es una función de una variable $T(x)$.\n",
    "\n",
    "Este problema tiene la siguiente solución analítica: $T(x) = 800 x + 100$"
   ]
  },
  {
   "cell_type": "markdown",
   "metadata": {},
   "source": [
    "<img src=\"./Figuras/numericoCOMPLETO.png\" style=\"width: 300px;\"/>\n",
    "\n",
    "Para obtener una solución aproximada a este problema usamos el método de volumen finito. Una excelente referencia a dicho método se puede encontrar en [1] y [2]."
   ]
  },
  {
   "cell_type": "markdown",
   "metadata": {},
   "source": [
    "<img src=\"./Figuras/computacionalCOMPLETO.png\" style=\"width: 450px;\"/>\n",
    "\n",
    "El software PyNoxtli implementa varios algoritmos del método de volumen finito, de tal manera que para resolver el problema planteado se pueden realizar los pasos siguientes:"
   ]
  },
  {
   "cell_type": "code",
   "execution_count": 1,
   "metadata": {},
   "outputs": [],
   "source": [
    "#-----------------------------------------------------------\n",
    "# Ruta absoluta de PyNoxtli\n",
    "#\n",
    "import os, sys\n",
    "sys.path.insert(0, os.path.abspath('../../base'))\n",
    "#-----------------------------------------------------------\n",
    "#\n",
    "# Módulos de numpy\n",
    "#\n",
    "import numpy as np\n",
    "#\n",
    "# Módulos necesarios de PyNoxtli\n",
    "#\n",
    "from geo.line import Line\n",
    "from fvm.sDiffusion import sDiffusion1D\n",
    "from fvm.pde import PDE\n",
    "from utils.displayInfo import printInfo\n",
    "import vis.flowix as flx"
   ]
  },
  {
   "cell_type": "code",
   "execution_count": 2,
   "metadata": {},
   "outputs": [],
   "source": [
    "#\n",
    "# Propiedades físicas y geométricas de la barra\n",
    "#\n",
    "longitud = 0.5 # [m]\n",
    "TA = 100       # [°C] Temperatura en el extremo izquierdo\n",
    "TB = 500       # [°C] Temperatura en el extremo derecho\n",
    "k  = 1000      # [W/m.K] Conductividad térmica\n",
    "N  = 6         # Número de nodos"
   ]
  },
  {
   "cell_type": "code",
   "execution_count": 3,
   "metadata": {},
   "outputs": [
    {
     "name": "stdout",
     "output_type": "stream",
     "text": [
      "[100.   0.   0.   0.   0.   0. 500.]\n"
     ]
    }
   ],
   "source": [
    "#\n",
    "# Definición del dominio y condiciones de frontera\n",
    "#\n",
    "barra = Line(longitud)\n",
    "barra.boundaryConditions(dirichlet = {'LEFT':TA, 'RIGHT':TB})\n",
    "#\n",
    "# Creación de la malla \n",
    "#\n",
    "malla     = barra.constructMesh(N) # Se construye la malla del dominio\n",
    "ivx, _, _ = malla.bounds(bi = 1, ei = N-1) # Grados de libertad\n",
    "nx        = malla.nx    # Número de nodos\n",
    "nvx       = malla.vx    # Número de volúmenes (celdas)\n",
    "delta     = malla.dx    # Tamaño de los volúmenes\n",
    "#\n",
    "# Arreglo para almacenar la solución\n",
    "#\n",
    "T = np.zeros(nvx+2) # Arreglo inicializado con ceros\n",
    "T[0]  = TA          # Condición de frontera izquierda\n",
    "T[-1] = TB          # Condición de frontera derecha\n",
    "\n",
    "print(T)"
   ]
  },
  {
   "cell_type": "code",
   "execution_count": 4,
   "metadata": {},
   "outputs": [
    {
     "name": "stdout",
     "output_type": "stream",
     "text": [
      ".--------------------------------------------------------------------------------.\n",
      "|              PyNoxtli : Ver. 0.2, LMCS-2020, [GNU GPL License V3]              |\n",
      ".--------------------------------------------------------------------------------.\n",
      "|       Longitud = 5.000000000000000e-01                                         |\n",
      "|  Temperatura_A =    100                                                        |\n",
      "|  Temperatura_B =    500                                                        |\n",
      "|  Conductividad =    1000                                                       |\n",
      "|          Nodos =     6                                                         |\n",
      "|      Volúmenes =     5                                                         |\n",
      "|          Delta = 1.000000000000000e-01                                         |\n",
      ".--------------------------------------------------------------------------------.\n"
     ]
    }
   ],
   "source": [
    "#\n",
    "# Impresión de los datos del problema\n",
    "#\n",
    "printInfo(Longitud = longitud,\n",
    "          Temperatura_A = TA,\n",
    "          Temperatura_B = TB,\n",
    "          Conductividad = k,\n",
    "          Nodos = nx, \n",
    "          Volúmenes = nvx,\n",
    "          Delta = delta)"
   ]
  },
  {
   "cell_type": "code",
   "execution_count": 5,
   "metadata": {},
   "outputs": [
    {
     "name": "stdout",
     "output_type": "stream",
     "text": [
      "Solución : [100. 140. 220. 300. 380. 460. 500.]\n"
     ]
    }
   ],
   "source": [
    "#\n",
    "# Definición de la fuente \n",
    "#\n",
    "Su = np.zeros(ivx) # Por ahora no hay fuente\n",
    "#\n",
    "# Definición del esquema de disccretización\n",
    "#\n",
    "dif_scheme = sDiffusion1D(malla, Su, k)\n",
    "#\n",
    "# Definición de la ecuación a resolver\n",
    "#\n",
    "laplace = PDE(barra, T)\n",
    "#\n",
    "# Creación del sistema lineal y su solución\n",
    "#\n",
    "laplace.setNumericalScheme(dif_scheme)\n",
    "laplace.solve()\n",
    "print('Solución : {}'.format(T))"
   ]
  },
  {
   "cell_type": "code",
   "execution_count": 6,
   "metadata": {},
   "outputs": [
    {
     "data": {
      "image/png": "[encoded data removed]",
      "text/plain": [
       "<Figure size 432x288 with 3 Axes>"
      ]
     },
     "metadata": {
      "needs_background": "light"
     },
     "output_type": "display_data"
    }
   ],
   "source": [
    "#\n",
    "# Coordenadas de la malla para FVM\n",
    "x, _, _ = malla.coordinatesMeshFVM() \n",
    "#\n",
    "# Solución analítica\n",
    "Ta = 800 * x + 100\n",
    "#\n",
    "# Visualización \n",
    "axis_par = [{'title':'Malla'},\n",
    "            {'title':'Solución Numérica', 'xlabel':'x [cm]', 'ylabel':'T [$^o$C]'},\n",
    "            {'title':'Solución Exacta', 'xlabel':'x [cm]', 'ylabel':'T [$^o$C]'}]\n",
    "\n",
    "v = flx.Plotter(3,1,axis_par) # Son 3 renglones y una columna de ejes (Axes).\n",
    "v.plot(2,x * 100,T, {'marker':'s', 'ls':'-', 'c':'C0', 'label':'Numérica'})\n",
    "v.plot(3,x * 100,Ta, {'marker':'o', 'ls':'-', 'c':'C1', 'label':'Exacta'})\n",
    "v.plot_mesh(1, malla, label=True)\n",
    "v.legend()\n",
    "v.show()"
   ]
  },
  {
   "cell_type": "markdown",
   "metadata": {},
   "source": [
    "## Referencias\n",
    "**[1]** *An Introduction to Computational Fluid Dynamics: The Finite Volume Method*,\n",
    "Henk Kaarle Versteeg, Weeratunge Malalasekera, Pearson Education Limited, **2007**, ISBN 0131274988, 9780131274983.\n",
    "\n",
    "**[2]** *Numerical Heat Transfer and Fluid Flow*, Suhas Patankar, CRC Press, **2018**, ISBN 1351991515, 9781351991513."
   ]
  },
  {
   "cell_type": "code",
   "execution_count": null,
   "metadata": {},
   "outputs": [],
   "source": []
  }
 ],
 "metadata": {
  "kernelspec": {
   "display_name": "Python 3",
   "language": "python",
   "name": "python3"
  },
  "language_info": {
   "codemirror_mode": {
    "name": "ipython",
    "version": 3
   },
   "file_extension": ".py",
   "mimetype": "text/x-python",
   "name": "python",
   "nbconvert_exporter": "python",
   "pygments_lexer": "ipython3",
   "version": "3.8.5"
  }
 },
 "nbformat": 4,
 "nbformat_minor": 4
}
