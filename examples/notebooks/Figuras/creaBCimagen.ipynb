{
 "cells": [
  {
   "cell_type": "code",
   "execution_count": 1,
   "metadata": {},
   "outputs": [],
   "source": [
    "import numpy as np\n",
    "import matplotlib.pyplot as plt\n",
    "#import matplotlib.colors as mcolors\n",
    "%matplotlib inline"
   ]
  },
  {
   "cell_type": "code",
   "execution_count": 2,
   "metadata": {},
   "outputs": [],
   "source": [
    "L = 0.5\n",
    "N = 10\n",
    "TA = 100\n",
    "TB = 500"
   ]
  },
  {
   "cell_type": "code",
   "execution_count": 41,
   "metadata": {},
   "outputs": [],
   "source": [
    "x = np.linspace(0, L, N)\n",
    "xb = np.linspace(0, L, N*50)"
   ]
  },
  {
   "cell_type": "code",
   "execution_count": 42,
   "metadata": {},
   "outputs": [],
   "source": [
    "y = np.zeros(len(x))\n",
    "y[ 0] = TA\n",
    "y[-1] = TB\n",
    "\n",
    "yb = np.zeros(len(xb))\n",
    "\n",
    "yf = np.zeros(len(xb))\n",
    "yf[ 0] = TA\n",
    "yf[-1] = TB"
   ]
  },
  {
   "cell_type": "code",
   "execution_count": 46,
   "metadata": {},
   "outputs": [
    {
     "data": {
      "image/png": "[encoded data removed]",
      "text/plain": [
       "<Figure size 432x288 with 1 Axes>"
      ]
     },
     "metadata": {
      "needs_background": "light"
     },
     "output_type": "display_data"
    }
   ],
   "source": [
    "plt.plot(xb[2:-2],yb[2:-2],'g-', color='silver', lw=15)\n",
    "plt.plot(xb[1:-1],yf[1:-1],'g--', color='black', lw=1.5)\n",
    "plt.plot(xb[0],yf[0],'o', color='green', lw=1)\n",
    "plt.plot(xb[-1],yf[-1],'o', color='green', lw=1)\n",
    "plt.plot([xb[0],xb[0]],[yf[0],yf[1]], '-', color='grey', lw=0.75)\n",
    "plt.plot([xb[-1],xb[-1]],[yf[-1],yf[-2]], '-', color='grey', lw=0.75)\n",
    "\n",
    "plt.plot(x[1:-1], y[1:-1],'o', color='purple', lw=1.0)\n",
    "plt.plot(x[0], 0, 's-', color='purple', lw=1.0)\n",
    "plt.plot(x[-1], 0, 's-', color='purple', lw=1.0)\n",
    "\n",
    "plt.xlabel('$x \\quad [m]$')\n",
    "plt.ylabel('$T \\quad [^oC]$')\n",
    "plt.ylim(-100,600)\n",
    "#plt.grid()\n",
    "plt.savefig('01_Conduccion1D_BC_IC.png')"
   ]
  },
  {
   "cell_type": "code",
   "execution_count": null,
   "metadata": {},
   "outputs": [],
   "source": []
  }
 ],
 "metadata": {
  "kernelspec": {
   "display_name": "Python 3",
   "language": "python",
   "name": "python3"
  },
  "language_info": {
   "codemirror_mode": {
    "name": "ipython",
    "version": 3
   },
   "file_extension": ".py",
   "mimetype": "text/x-python",
   "name": "python",
   "nbconvert_exporter": "python",
   "pygments_lexer": "ipython3",
   "version": "3.7.6"
  }
 },
 "nbformat": 4,
 "nbformat_minor": 2
}
