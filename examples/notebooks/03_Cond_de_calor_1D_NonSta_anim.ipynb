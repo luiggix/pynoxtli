{
 "cells": [
  {
   "cell_type": "markdown",
   "metadata": {},
   "source": [
    "# Conducción de calor en 1D: <font color=green>Caso No estacionario</font> (animación)\n",
    "\n",
    "**Trabajo realizado con el apoyo del Programa UNAM-DGAPA-PAPIME PE101019**\n",
    "\n",
    "*   Autores: \n",
    "    - Luis M. de la Cruz Salas\n",
    "*   Rev: lun 15 feb 2021 15:37:48 CST"
   ]
  },
  {
   "cell_type": "code",
   "execution_count": 1,
   "metadata": {},
   "outputs": [],
   "source": [
    "#-----------------------------------------------------------\n",
    "# PATH ABSOLUTO DE LOS MÓDULOS DE PYNOXTLI\n",
    "#\n",
    "import os, sys\n",
    "if not(\"pynoxtli/base\" in sys.path[0][-13:]):\n",
    "    sys.path.insert(0, os.path.abspath('../../base'))\n",
    "#-----------------------------------------------------------\n",
    "\n",
    "import numpy as np\n",
    "#\n",
    "# Importar módulos de pynoxtli\n",
    "#\n",
    "from geo.line import Line\n",
    "from fvm.tDiffusion import tDiffusion1D\n",
    "from fvm.pde import PDE\n",
    "from utils.displayInfo import printInfo\n",
    "import vis.flowix as flx"
   ]
  },
  {
   "cell_type": "code",
   "execution_count": 2,
   "metadata": {},
   "outputs": [],
   "source": [
    "#\n",
    "# Función que ejecuta FuncAnimation() en cada paso de tiempo\n",
    "#\n",
    "def solver(i, ax, dt):\n",
    "    laplace.solve()\n",
    "    line.set_ydata(T)\n",
    "    \n",
    "    time_step = i * dt\n",
    "    title_graf = 'Sol. Numérica :  Step = {:>3d} Time = {:>6.5f}'.format(i, time_step)\n",
    "    print('Sol. Numérica :  Step = {:>3d} Time = {:>6.5f}'.format(i, time_step))\n",
    "    ax.set_title(title_graf)"
   ]
  },
  {
   "cell_type": "code",
   "execution_count": 3,
   "metadata": {},
   "outputs": [],
   "source": [
    "#\n",
    "# Datos del problema\n",
    "#\n",
    "longitud = 0.5 # meters\n",
    "TA = 100 # °C \n",
    "TB = 500 # °C \n",
    "k  = 1000 # W/m.K\n",
    "N  = 6 # Número de nodos\n",
    "dt = 0.00001 # Paso de tiempo\n",
    "Tmax = 20"
   ]
  },
  {
   "cell_type": "code",
   "execution_count": 4,
   "metadata": {},
   "outputs": [
    {
     "name": "stdout",
     "output_type": "stream",
     "text": [
      ".--------------------------------------------------------------------------------.\n",
      "|              PyNoxtli : Ver. 0.2, LMCS-2020, [GNU GPL License V3]              |\n",
      ".--------------------------------------------------------------------------------.\n",
      "|       Longitud = 5.000000000000000e-01                                         |\n",
      "|  Temperatura_A =    100                                                        |\n",
      "|  Temperatura_B =    500                                                        |\n",
      "|  Conductividad =    1000                                                       |\n",
      "|          Nodos =     6                                                         |\n",
      "|      Volúmenes =     5                                                         |\n",
      "|          Delta = 1.000000000000000e-01                                         |\n",
      "|             dt = 1.000000000000000e-05                                         |\n",
      ".--------------------------------------------------------------------------------.\n"
     ]
    }
   ],
   "source": [
    "#\n",
    "# Definición del dominio y condiciones de frontera\n",
    "#\n",
    "rod = Line(longitud)\n",
    "rod.boundaryConditions(dirichlet = {'RIGHT':TB, 'LEFT':TA})\n",
    "#\n",
    "# Creamos la malla y obtenemos datos importantes\n",
    "#\n",
    "malla     = rod.constructMesh(N)\n",
    "ivx, _, _ = malla.bounds(bi = 1, ei = N-1)\n",
    "nx        = malla.nx    # Número de nodos\n",
    "nvx       = malla.vx    # Número de volúmenes\n",
    "delta     = malla.dx    # Tamaño de los volúmenes\n",
    "#\n",
    "# Se construye el arreglo donde se guardará la solución\n",
    "#\n",
    "T = np.ones(nvx+2) # El arreglo contiene unos\n",
    "T *= TA          # Inicializamos T = 100\n",
    "T[0]  = TA       # Condición de frontera izquierda\n",
    "T[-1] = TB       # Condición de frontera derecha\n",
    "#\n",
    "# Imprimimos los datos del problema (nicely)\n",
    "#\n",
    "printInfo(Longitud = longitud,\n",
    "          Temperatura_A = TA,\n",
    "          Temperatura_B = TB,\n",
    "          Conductividad = k,\n",
    "          Nodos = nx, \n",
    "          Volúmenes = nvx,\n",
    "          Delta = delta,\n",
    "          dt = dt)"
   ]
  },
  {
   "cell_type": "code",
   "execution_count": 5,
   "metadata": {},
   "outputs": [],
   "source": [
    "%matplotlib qt"
   ]
  },
  {
   "cell_type": "code",
   "execution_count": 6,
   "metadata": {},
   "outputs": [
    {
     "name": "stdout",
     "output_type": "stream",
     "text": [
      "Sol. Numérica :  Step =   0 Time = 0.00000\n",
      "Sol. Numérica :  Step =   0 Time = 0.00000\n",
      "Sol. Numérica :  Step =   1 Time = 0.00001\n",
      "Sol. Numérica :  Step =   2 Time = 0.00002\n",
      "Sol. Numérica :  Step =   3 Time = 0.00003\n",
      "Sol. Numérica :  Step =   4 Time = 0.00004\n",
      "Sol. Numérica :  Step =   5 Time = 0.00005\n",
      "Sol. Numérica :  Step =   6 Time = 0.00006\n",
      "Sol. Numérica :  Step =   7 Time = 0.00007\n",
      "Sol. Numérica :  Step =   8 Time = 0.00008\n",
      "Sol. Numérica :  Step =   9 Time = 0.00009\n",
      "Sol. Numérica :  Step =  10 Time = 0.00010\n",
      "Sol. Numérica :  Step =  11 Time = 0.00011\n",
      "Sol. Numérica :  Step =  12 Time = 0.00012\n",
      "Sol. Numérica :  Step =  13 Time = 0.00013\n",
      "Sol. Numérica :  Step =  14 Time = 0.00014\n",
      "Sol. Numérica :  Step =  15 Time = 0.00015\n",
      "Sol. Numérica :  Step =  16 Time = 0.00016\n",
      "Sol. Numérica :  Step =  17 Time = 0.00017\n",
      "Sol. Numérica :  Step =  18 Time = 0.00018\n",
      "Sol. Numérica :  Step =  19 Time = 0.00019\n",
      "Sol. Numérica :  Step =  20 Time = 0.00020\n"
     ]
    }
   ],
   "source": [
    "#\n",
    "# Definimos la fuente \n",
    "#\n",
    "Su = np.zeros(ivx)\n",
    "#\n",
    "# Definimos el esquema de disccretización\n",
    "#\n",
    "dif_scheme = tDiffusion1D(malla, Su, dt = dt, Gamma = k)\n",
    "#\n",
    "# Definimos la ecuación a resolver\n",
    "#\n",
    "laplace = PDE(rod, T)\n",
    "#\n",
    "# Preparamos el sistema lineal y creamos la matriz\n",
    "#\n",
    "laplace.setNumericalScheme(dif_scheme)\n",
    "#\n",
    "# Solución analítica\n",
    "#\n",
    "x, _, _ = malla.coordinatesMeshFVM()\n",
    "Ta = 800 * x + 100\n",
    "#\n",
    "# Preparamos la visualización\n",
    "#\n",
    "axis_par = [{'title':'Numérica', 'xlabel':'x [cm]', 'ylabel':'T [$^o$C]'}]   \n",
    "v = flx.Plotter(2,1,axis_par)\n",
    "line, = v.plot(1,x * 100,T, {'marker':'o', 'ls':'-', 'lw':0.75, 'zorder':5})\n",
    "#\n",
    "# Resolvemos y graficamos para varios pasos de tiempo\n",
    "#\n",
    "v.plot(1,x * 100,Ta, {'color':'k', 'ls':'-', 'lw':3, 'label':'Cond. inicial'})        \n",
    "\n",
    "from matplotlib.animation import FuncAnimation\n",
    "\n",
    "anim = FuncAnimation(v.fig,    # La figura donde se hace la animación\n",
    "                     solver,        # la función que resuelve y cambia los datos\n",
    "                     fargs=(v.axes(1), dt, ),   # argumentos para la función solver()\n",
    "                     interval=500,  # Intervalo entre cuadros en milisegundos\n",
    "                     frames=Tmax+1, # Número de iteraciones (Cuadros)\n",
    "                     repeat=False)  # Permite poner la animación en un ciclo \n",
    "\n",
    "v.plot(1,x * 100,Ta, {'color':'r', 'ls':'-', 'lw':3, 'label':'Sol. Exacta'})        \n",
    "v.plot_mesh(2, malla, label=True)\n",
    "v.grid()\n",
    "v.legend()\n",
    "v.show()"
   ]
  },
  {
   "cell_type": "code",
   "execution_count": null,
   "metadata": {},
   "outputs": [],
   "source": []
  }
 ],
 "metadata": {
  "kernelspec": {
   "display_name": "Python 3",
   "language": "python",
   "name": "python3"
  },
  "language_info": {
   "codemirror_mode": {
    "name": "ipython",
    "version": 3
   },
   "file_extension": ".py",
   "mimetype": "text/x-python",
   "name": "python",
   "nbconvert_exporter": "python",
   "pygments_lexer": "ipython3",
   "version": "3.8.5"
  }
 },
 "nbformat": 4,
 "nbformat_minor": 4
}
