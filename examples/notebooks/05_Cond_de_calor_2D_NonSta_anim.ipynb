{
 "cells": [
  {
   "cell_type": "markdown",
   "metadata": {},
   "source": [
    "# Conducción de calor en 2D: <font color=green>Caso No estacionario</font>\n",
    "\n",
    "**Trabajo realizado con el apoyo del Programa UNAM-DGAPA-PAPIME PE101019**\n",
    "\n",
    "*   Autores: \n",
    "    - Luis M. de la Cruz Salas\n",
    "*   Rev: mar nov 10 12:35:18 CDT 2020"
   ]
  },
  {
   "cell_type": "markdown",
   "metadata": {},
   "source": [
    "<img src=\"./Figuras/conceptualCOMPLETO.png\" style=\"width: 300px;\"/>\n",
    "\n",
    "<div>\n",
    " <img src=\"./Figuras/condCalor2D.png\"  hspace=\"5\" vspace=\"5\" style=\"float: right; width:150px\"/>\n",
    "    Estudiar la conducción de calor en una placa en dos dimensiones, como la que se muestra en la figura. La lontitud vertical de la placa es el doble que la longitud horizontal: $Ly = 2Lx$.\n",
    "    Las condiciones de frontera son de tipo Dirichlet, es decir, la temperatura está dada en las paredes de la placa.\n",
    "    En la figura se distingue $T_L, T_R, T_T$ y $T_B$ que corresponden a las temperaturas dadas en las paredes izquierda (LEFT), derecha (RIGHT), arriba (TOP) y abajo (BOTTOM), respectivamente. En este ejemplo tenemos los siguiente valores:\n",
    "    \n",
    "$$ \n",
    "T_L = 0, \\qquad T_R = 0, \\qquad T_B = 0, \\qquad T_T = 1 \n",
    "$$\n",
    "\n",
    "La conductividad $\\kappa$ se considera constante. En este caso **si hay dependencia temporal**.\n",
    "</div>"
   ]
  },
  {
   "cell_type": "markdown",
   "metadata": {},
   "source": [
    "<img src=\"./Figuras/matematicoCOMPLETO.png\" style=\"width: 300px;\"/>\n",
    "\n",
    "El modelo matemático de este problema consiste de la siguiente ecuación diferencial parcial:\n",
    "\n",
    "$\n",
    "\\dfrac{\\partial T}{\\partial t} = \n",
    "\\dfrac{\\partial}{\\partial x} \\left(\\kappa \\dfrac{\\partial T}{\\partial x}\\right) + \\dfrac{\\partial}{\\partial y} \\left(\\kappa \\dfrac{\\partial T}{\\partial y}\\right) \n",
    "$"
   ]
  },
  {
   "cell_type": "markdown",
   "metadata": {},
   "source": [
    "<img src=\"./Figuras/numericoCOMPLETO.png\" style=\"width: 300px;\"/>\n",
    "\n",
    "En este ejemplo haremos la solución de manera implícita y con el método de volumen finito (FVM, por sus siglas en inglés).\n"
   ]
  },
  {
   "cell_type": "markdown",
   "metadata": {},
   "source": [
    "<img src=\"./Figuras/computacionalCOMPLETO.png\" style=\"width: 450px;\"/>"
   ]
  },
  {
   "cell_type": "code",
   "execution_count": 1,
   "metadata": {},
   "outputs": [],
   "source": [
    "#-----------------------------------------------------------\n",
    "# PARA DEFINIR EL PATH ABSOLUTO DE LOS MÓDULOS DE PYNOXTLI\n",
    "#\n",
    "import os, sys\n",
    "if not(\"pynoxtli/base\" in sys.path[0][-13:]):\n",
    "    sys.path.insert(0, os.path.abspath('../../base'))\n",
    "#-----------------------------------------------------------\n",
    "\n",
    "import numpy as np\n",
    "#\n",
    "# Importar módulos de pynoxtli\n",
    "#\n",
    "from geo.rectangle import Rectangle\n",
    "from fvm.tDiffusion import tDiffusion2D\n",
    "from fvm.pde import PDE\n",
    "from utils.displayInfo import printInfo\n",
    "import vis.flowix as flx"
   ]
  },
  {
   "cell_type": "code",
   "execution_count": 2,
   "metadata": {},
   "outputs": [],
   "source": [
    "#\n",
    "# Función que actualiza la solución y graficación en cada paso de tiempo\n",
    "#\n",
    "def solver(i, ax, dt):\n",
    "    print(i,sep=' ', end = ' ')\n",
    "    \n",
    "    laplace.solve()     # Actualización de la solución del problema\n",
    "    ax.collections = [] # Actualización de las colecciones de Artist a dibujar\n",
    "    \n",
    "    v.contourf(1, x, y, T, par_contourf) # Contornos llenos\n",
    "    v.contour(1, x, y, T, par_contour)   # Líneas de contornos\n",
    "    \n",
    "    # Textos de títulos\n",
    "    time_step = i * dt\n",
    "    title_graf = ' Step = {:>3d} \\n Time = {:>6.5f}'.format(i, time_step)\n",
    "    ax.set_title(title_graf)"
   ]
  },
  {
   "cell_type": "code",
   "execution_count": 3,
   "metadata": {},
   "outputs": [],
   "source": [
    "#\n",
    "# Parámetros para los contornos (llenos y vacíos)\n",
    "#\n",
    "par_contourf = {'cmap':'hot', 'levels':50}\n",
    "par_contour  = {'colors':'gray', 'levels':10, 'linewidths':1.0, 'alpha':0.75}"
   ]
  },
  {
   "cell_type": "code",
   "execution_count": 4,
   "metadata": {},
   "outputs": [],
   "source": [
    "#\n",
    "# Datos del problema\n",
    "#\n",
    "longitud_x = 1.0 # meters\n",
    "longitud_y = 2.0\n",
    "TL = 0 # °C \n",
    "TR = 0 # °C\n",
    "TB = 0 # °C\n",
    "TT = 1 # °C\n",
    "k  = 1 # W/m.K\n",
    "Nx = 11 # Número de nodos\n",
    "Ny = 21\n",
    "dt = 0.01\n",
    "Tmax = 30"
   ]
  },
  {
   "cell_type": "code",
   "execution_count": 5,
   "metadata": {},
   "outputs": [
    {
     "name": "stdout",
     "output_type": "stream",
     "text": [
      ".--------------------------------------------------------------------------------.\n",
      "|              PyNoxtli : Ver. 0.2, LMCS-2020, [GNU GPL License V3]              |\n",
      ".--------------------------------------------------------------------------------.\n",
      "|     Longitud_x = 1.000000000000000e+00                                         |\n",
      "|     Longitud_y = 2.000000000000000e+00                                         |\n",
      "|    TL_TR_TT_TB = (0, 0, 1, 0)                                                  |\n",
      "|  Conductividad =     1                                                         |\n",
      "|          Nodos =  (11, 21)                                                     |\n",
      "|      Volúmenes =  (10, 20)                                                     |\n",
      "|         Deltas = (0.1, 0.1)                                                    |\n",
      "|          Inner =  (10, 20)                                                     |\n",
      ".--------------------------------------------------------------------------------.\n"
     ]
    }
   ],
   "source": [
    "#\n",
    "# Definición del dominio y condiciones de frontera\n",
    "#\n",
    "placa = Rectangle(longitud_x, longitud_y)\n",
    "placa.boundaryConditions(dirichlet = {'LEFT':TL, 'RIGHT':TR, 'BOTTOM':TB, 'TOP':TT})\n",
    "#\n",
    "# Creamos la malla y obtenemos datos importantes\n",
    "#\n",
    "malla     = placa.constructMesh(Nx, Ny)\n",
    "ivx, ivy, _ = malla.bounds(bi = 1, ei = Nx-1,\n",
    "                           bj = 1, ej = Ny-1)\n",
    "nx  = malla.nx    # Número de nodos\n",
    "ny  = malla.ny    # Número de nodos\n",
    "nvx = malla.vx    # Número de volúmenes\n",
    "nvy = malla.vy    # Número de volúmenes\n",
    "dx  = malla.dx    # Tamaño de los volúmenes\n",
    "dy  = malla.dy    # Tamaño de los volúmenes\n",
    "#\n",
    "# Imprimimos los datos del problema (nicely)\n",
    "#\n",
    "printInfo(Longitud_x = longitud_x,\n",
    "          Longitud_y = longitud_y,\n",
    "          TL_TR_TT_TB = (TL, TR, TT, TB),\n",
    "          Conductividad = k,\n",
    "          Nodos = (nx,ny),\n",
    "          Volúmenes = (nvx,nvy),\n",
    "          Deltas = (dx,dy),\n",
    "          Inner = (ivx, ivy))"
   ]
  },
  {
   "cell_type": "code",
   "execution_count": 6,
   "metadata": {},
   "outputs": [],
   "source": [
    "%matplotlib qt"
   ]
  },
  {
   "cell_type": "code",
   "execution_count": 7,
   "metadata": {},
   "outputs": [
    {
     "name": "stdout",
     "output_type": "stream",
     "text": [
      "0 0 1 2 3 4 5 6 7 8 9 10 11 12 13 14 15 16 17 18 19 "
     ]
    }
   ],
   "source": [
    "#\n",
    "# Malla para graficar\n",
    "#\n",
    "x, y, _ = malla.coordinatesMeshFVM()\n",
    "#\n",
    "# Se construye el arreglo donde se guardará la solución\n",
    "#\n",
    "T = np.zeros((nvy+2, nvx+2)) # El arreglo inicial contiene ceros\n",
    "T[-1,:] = TT # Condición de frontera pared superior\n",
    "T[0,:] = TB  # Condición de frontera pared inferior\n",
    "T[:,0] = TL  # Condición de frontera pared izquierda\n",
    "T[:,-1] = TR # Condición de frontera pared derecha\n",
    "#\n",
    "# Visualización\n",
    "#\n",
    "axis_par = [{'aspect':'equal'}]   \n",
    "v = flx.Plotter(1,1,axis_par, par_fig={'figsize':(4,6)})\n",
    "con = v.contourf(1, x, y, T, par_contourf)\n",
    "v.colorbar(1, con, {'shrink':0.75})\n",
    "v.contour(1, x, y, T, par_contour)\n",
    "#\n",
    "# Definimos la fuente \n",
    "#\n",
    "Su = np.zeros((ivy, ivx))\n",
    "#\n",
    "# Definimos el esquema de disccretización\n",
    "#\n",
    "dif_scheme = tDiffusion2D(malla,Su, dt = dt, Gamma = k)\n",
    "#\n",
    "# Definimos la ecuación a resolver\n",
    "#\n",
    "laplace = PDE(placa, T)\n",
    "#\n",
    "# Creamos el sistema lineal y lo resolvemos\n",
    "#\n",
    "Su.shape = ivy * ivx\n",
    "laplace.setNumericalScheme(dif_scheme)\n",
    "#\n",
    "# Resolvemos y graficamos para varios pasos de tiempo\n",
    "#\n",
    "from matplotlib.animation import FuncAnimation\n",
    "\n",
    "anim = FuncAnimation(v.fig,         # La figura donde se hace la animación\n",
    "                     solver,        # la función que resuelve y cambia los datos\n",
    "                     fargs=(v.axes(1), dt, ),   # argumentos para la función solver()\n",
    "                     interval=500,  # Intervalo entre cuadros en milisegundos\n",
    "                     frames=Tmax+1, # Número de iteraciones (Cuadros)\n",
    "                     repeat=False)  # Permite poner la animación en un ciclo \n",
    "#\n",
    "v.show()"
   ]
  },
  {
   "cell_type": "code",
   "execution_count": null,
   "metadata": {},
   "outputs": [],
   "source": []
  },
  {
   "cell_type": "code",
   "execution_count": null,
   "metadata": {},
   "outputs": [],
   "source": []
  }
 ],
 "metadata": {
  "kernelspec": {
   "display_name": "Python 3",
   "language": "python",
   "name": "python3"
  },
  "language_info": {
   "codemirror_mode": {
    "name": "ipython",
    "version": 3
   },
   "file_extension": ".py",
   "mimetype": "text/x-python",
   "name": "python",
   "nbconvert_exporter": "python",
   "pygments_lexer": "ipython3",
   "version": "3.8.5"
  }
 },
 "nbformat": 4,
 "nbformat_minor": 4
}
